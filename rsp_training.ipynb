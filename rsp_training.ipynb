{
  "nbformat": 4,
  "nbformat_minor": 0,
  "metadata": {
    "colab": {
      "provenance": [],
      "gpuType": "T4",
      "authorship_tag": "ABX9TyOtoPpYhfKO+bBYJBTeEoMV"
    },
    "kernelspec": {
      "name": "python3",
      "display_name": "Python 3"
    },
    "language_info": {
      "name": "python"
    },
    "accelerator": "GPU"
  },
  "cells": [
    {
      "cell_type": "code",
      "execution_count": null,
      "metadata": {
        "id": "jVBxQ5THWp4D"
      },
      "outputs": [],
      "source": [
        "import torch\n",
        "import torchvision\n",
        "%matplotlib notebook\n",
        "import numpy as np\n",
        "%matplotlib inline\n",
        "labels_map = ['T-shirt/top',  'Trouser', 'Pullover', 'Dress', 'Coat', 'Sandal', 'Shirt',\n",
        "         'Sneaker', 'Bag', 'Ankle boot']"
      ]
    },
    {
      "cell_type": "code",
      "execution_count": null,
      "metadata": {
        "colab": {
          "base_uri": "https://localhost:8080/"
        },
        "id": "tzdUbb7WA2p5",
        "outputId": "c9f96bef-1978-4147-ebb2-915748742041"
      },
      "outputs": [
        {
          "output_type": "stream",
          "name": "stdout",
          "text": [
            "Downloading http://fashion-mnist.s3-website.eu-central-1.amazonaws.com/train-images-idx3-ubyte.gz\n",
            "Downloading http://fashion-mnist.s3-website.eu-central-1.amazonaws.com/train-images-idx3-ubyte.gz to ./FashionMNIST/FashionMNIST/raw/train-images-idx3-ubyte.gz\n"
          ]
        },
        {
          "output_type": "stream",
          "name": "stderr",
          "text": [
            "100%|██████████| 26421880/26421880 [00:02<00:00, 11782150.23it/s]\n"
          ]
        },
        {
          "output_type": "stream",
          "name": "stdout",
          "text": [
            "Extracting ./FashionMNIST/FashionMNIST/raw/train-images-idx3-ubyte.gz to ./FashionMNIST/FashionMNIST/raw\n",
            "\n",
            "Downloading http://fashion-mnist.s3-website.eu-central-1.amazonaws.com/train-labels-idx1-ubyte.gz\n",
            "Downloading http://fashion-mnist.s3-website.eu-central-1.amazonaws.com/train-labels-idx1-ubyte.gz to ./FashionMNIST/FashionMNIST/raw/train-labels-idx1-ubyte.gz\n"
          ]
        },
        {
          "output_type": "stream",
          "name": "stderr",
          "text": [
            "100%|██████████| 29515/29515 [00:00<00:00, 170681.64it/s]\n"
          ]
        },
        {
          "output_type": "stream",
          "name": "stdout",
          "text": [
            "Extracting ./FashionMNIST/FashionMNIST/raw/train-labels-idx1-ubyte.gz to ./FashionMNIST/FashionMNIST/raw\n",
            "\n",
            "Downloading http://fashion-mnist.s3-website.eu-central-1.amazonaws.com/t10k-images-idx3-ubyte.gz\n",
            "Downloading http://fashion-mnist.s3-website.eu-central-1.amazonaws.com/t10k-images-idx3-ubyte.gz to ./FashionMNIST/FashionMNIST/raw/t10k-images-idx3-ubyte.gz\n"
          ]
        },
        {
          "output_type": "stream",
          "name": "stderr",
          "text": [
            "100%|██████████| 4422102/4422102 [00:01<00:00, 3156614.75it/s]\n"
          ]
        },
        {
          "output_type": "stream",
          "name": "stdout",
          "text": [
            "Extracting ./FashionMNIST/FashionMNIST/raw/t10k-images-idx3-ubyte.gz to ./FashionMNIST/FashionMNIST/raw\n",
            "\n",
            "Downloading http://fashion-mnist.s3-website.eu-central-1.amazonaws.com/t10k-labels-idx1-ubyte.gz\n",
            "Downloading http://fashion-mnist.s3-website.eu-central-1.amazonaws.com/t10k-labels-idx1-ubyte.gz to ./FashionMNIST/FashionMNIST/raw/t10k-labels-idx1-ubyte.gz\n"
          ]
        },
        {
          "output_type": "stream",
          "name": "stderr",
          "text": [
            "100%|██████████| 5148/5148 [00:00<00:00, 8114346.86it/s]"
          ]
        },
        {
          "output_type": "stream",
          "name": "stdout",
          "text": [
            "Extracting ./FashionMNIST/FashionMNIST/raw/t10k-labels-idx1-ubyte.gz to ./FashionMNIST/FashionMNIST/raw\n",
            "\n"
          ]
        },
        {
          "output_type": "stream",
          "name": "stderr",
          "text": [
            "\n"
          ]
        }
      ],
      "source": [
        "# torchvision.transforms.ToTensor() converts different types of data to tensor, so we can use torch\n",
        "train_dataset = torchvision.datasets.FashionMNIST(\"./FashionMNIST\",download=True,train=True,transform=torchvision.transforms.ToTensor())\n",
        "test_dataset = torchvision.datasets.FashionMNIST(\"./FashionMNIST\",download=True,train=False,transform=torchvision.transforms.ToTensor())"
      ]
    },
    {
      "cell_type": "markdown",
      "metadata": {
        "id": "qt1WqifBEU0Z"
      },
      "source": [
        "# Loading Data"
      ]
    },
    {
      "cell_type": "code",
      "execution_count": null,
      "metadata": {
        "colab": {
          "base_uri": "https://localhost:8080/"
        },
        "id": "cMdiIPihBisp",
        "outputId": "3db61273-f9d6-45b8-887e-5f35ec261d51"
      },
      "outputs": [
        {
          "output_type": "stream",
          "name": "stdout",
          "text": [
            "Train Dataset Size:  60000\n",
            "Test Dataset Size:  10000\n"
          ]
        }
      ],
      "source": [
        "print(\"Train Dataset Size: \", len(train_dataset))\n",
        "print(\"Test Dataset Size: \", len(test_dataset))"
      ]
    },
    {
      "cell_type": "code",
      "execution_count": null,
      "metadata": {
        "colab": {
          "base_uri": "https://localhost:8080/"
        },
        "id": "ok-RDlGIB2Y3",
        "outputId": "4c976ac4-c955-4316-a879-3e8eec2432ea"
      },
      "outputs": [
        {
          "output_type": "execute_result",
          "data": {
            "text/plain": [
              "torch.Size([1, 28, 28])"
            ]
          },
          "metadata": {},
          "execution_count": 5
        }
      ],
      "source": [
        "image,label = train_dataset[0]\n",
        "image.shape\n"
      ]
    },
    {
      "cell_type": "code",
      "source": [
        "trainDataLoader = torch.utils.data.DataLoader(train_dataset,batch_size=64,shuffle=True)\n",
        "testDataLoader = torch.utils.data.DataLoader(test_dataset,batch_size=64,shuffle=True)"
      ],
      "metadata": {
        "id": "MwO5Iot_W-UV"
      },
      "execution_count": null,
      "outputs": []
    },
    {
      "cell_type": "code",
      "execution_count": null,
      "metadata": {
        "colab": {
          "base_uri": "https://localhost:8080/",
          "height": 237
        },
        "id": "ORnkHvIaCpJc",
        "outputId": "cf1f353e-40c5-47a4-b6ec-b656e213b89d"
      },
      "outputs": [
        {
          "output_type": "display_data",
          "data": {
            "text/plain": [
              "<Figure size 800x200 with 3 Axes>"
            ],
            "image/png": "[encoded data removed]"
          },
          "metadata": {}
        }
      ],
      "source": [
        "images, labels = next(iter(trainDataLoader))\n",
        "plt.figure(figsize=(8,2))\n",
        "for index in np.arange(1,4):\n",
        "  plt.subplot(1,3,index)\n",
        "  plt.imshow(images[index].squeeze().numpy(),cmap=plt.cm.gray)\n",
        "  plt.title(labels_map[labels[index]])"
      ]
    },
    {
      "cell_type": "code",
      "source": [
        "# Creating the model structure\n",
        "class LinearReg(torch.nn.Module):\n",
        "  def __init__(self):\n",
        "    super(LinearReg,self).__init__()\n",
        "    self.linear = torch.nn.Linear(28*28,10);\n",
        "\n",
        "  # Forward Pass\n",
        "  def forward(self,x):\n",
        "    x = x.view(-1,28*28)\n",
        "    transformed_x = self.linear(x)\n",
        "    return transformed_x\n",
        "\n",
        "net = LinearReg().cuda()\n",
        "\n",
        "# Loss Function\n",
        "Loss = torch.nn.CrossEntropyLoss()\n",
        "# Optimizer\n",
        "optimizer = torch.optim.SGD(net.parameters(),lr=0.01);"
      ],
      "metadata": {
        "id": "ABaDhekBW1wS"
      },
      "execution_count": null,
      "outputs": []
    },
    {
      "cell_type": "code",
      "source": [
        "train_loss_history = []\n",
        "test_loss_history = []\n",
        "\n",
        "for epoch in range(25):\n",
        "  train_loss = 0.0\n",
        "  test_loss = 0.0\n",
        "  for i, data in enumerate(trainDataLoader):\n",
        "    images, labels = data\n",
        "    images = images.cuda()\n",
        "    labels = labels.cuda()\n",
        "    optimizer.zero_grad()\n",
        "    prediction_output = net.forward(images)\n",
        "    fit = Loss(prediction_output,labels)\n",
        "    fit.backward()\n",
        "    optimizer.step()\n",
        "    train_loss += fit.item()\n",
        "  for i, data in enumerate(testDataLoader):\n",
        "    with torch.no_grad():\n",
        "      images, labels = data\n",
        "      images = images.cuda()\n",
        "      labels = labels.cuda()\n",
        "      prediction_output = net.forward(images)\n",
        "      fit = Loss(prediction_output,labels)\n",
        "      test_loss += fit.item()\n",
        "\n",
        "  train_loss = train_loss/len(trainDataLoader)\n",
        "  test_loss = test_loss/len(testDataLoader)\n",
        "  train_loss_history.append(train_loss)\n",
        "  test_loss_history.append(test_loss)\n",
        "\n",
        "  print(\"Epoch: %s, Train Loss: %s, Test Loss: %s\"%(epoch,train_loss,test_loss))"
      ],
      "metadata": {
        "colab": {
          "base_uri": "https://localhost:8080/"
        },
        "id": "tza1IIAUgXGs",
        "outputId": "dfacae28-4e87-47ca-e1b8-8a4864ff18dd"
      },
      "execution_count": null,
      "outputs": [
        {
          "output_type": "stream",
          "name": "stdout",
          "text": [
            "Epoch: 0, Train Loss: 0.9608441925506348, Test Loss: 0.7424008504600282\n",
            "Epoch: 1, Train Loss: 0.6691660806060091, Test Loss: 0.6489654726283566\n",
            "Epoch: 2, Train Loss: 0.6047325946057021, Test Loss: 0.6077578842260276\n",
            "Epoch: 3, Train Loss: 0.5696106697958924, Test Loss: 0.5800812705686897\n",
            "Epoch: 4, Train Loss: 0.5463772733519072, Test Loss: 0.5611607149528091\n",
            "Epoch: 5, Train Loss: 0.5300829839795383, Test Loss: 0.5571529946889088\n",
            "Epoch: 6, Train Loss: 0.5172730263298763, Test Loss: 0.5376077277265536\n",
            "Epoch: 7, Train Loss: 0.5068002938588799, Test Loss: 0.5303733118210628\n",
            "Epoch: 8, Train Loss: 0.49833843769676395, Test Loss: 0.5220573934589982\n",
            "Epoch: 9, Train Loss: 0.4910859067969993, Test Loss: 0.5156961231474664\n",
            "Epoch: 10, Train Loss: 0.4847481091107641, Test Loss: 0.512291307282296\n",
            "Epoch: 11, Train Loss: 0.4793729324108248, Test Loss: 0.508850464870216\n",
            "Epoch: 12, Train Loss: 0.47505451143105654, Test Loss: 0.5025419849119369\n",
            "Epoch: 13, Train Loss: 0.4707166881385897, Test Loss: 0.4986324862689729\n",
            "Epoch: 14, Train Loss: 0.46667452634715323, Test Loss: 0.49706480495489325\n",
            "Epoch: 15, Train Loss: 0.46306913747970485, Test Loss: 0.49486291104820884\n",
            "Epoch: 16, Train Loss: 0.46001913676510997, Test Loss: 0.4886835685391335\n",
            "Epoch: 17, Train Loss: 0.45709209264849804, Test Loss: 0.48937665637891004\n",
            "Epoch: 18, Train Loss: 0.45463732460033157, Test Loss: 0.48638509489168785\n",
            "Epoch: 19, Train Loss: 0.4519117079945261, Test Loss: 0.48839014540812015\n",
            "Epoch: 20, Train Loss: 0.44969528239927314, Test Loss: 0.48152891294971395\n",
            "Epoch: 21, Train Loss: 0.4478965236275181, Test Loss: 0.4823236219632398\n",
            "Epoch: 22, Train Loss: 0.44570638350586395, Test Loss: 0.47837960473291435\n",
            "Epoch: 23, Train Loss: 0.44376627675124575, Test Loss: 0.47715169001536767\n",
            "Epoch: 24, Train Loss: 0.4417835920890257, Test Loss: 0.4752593433401387\n"
          ]
        }
      ]
    },
    {
      "cell_type": "code",
      "source": [
        "fig = plt.figure()\n",
        "plt.plot(range(25),train_loss_history,\"-\",linewidth=3,label=\"Train Error\")\n",
        "plt.plot(range(25),test_loss_history,\"-\",linewidth=3,label=\"Test Error\")\n"
      ],
      "metadata": {
        "colab": {
          "base_uri": "https://localhost:8080/",
          "height": 447
        },
        "id": "FmXN_-qOkeV2",
        "outputId": "c1fe3e55-4669-4882-c4f2-088418617e1c"
      },
      "execution_count": null,
      "outputs": [
        {
          "output_type": "execute_result",
          "data": {
            "text/plain": [
              "[<matplotlib.lines.Line2D at 0x79287758aad0>]"
            ]
          },
          "metadata": {},
          "execution_count": 70
        },
        {
          "output_type": "display_data",
          "data": {
            "text/plain": [
              "<Figure size 640x480 with 1 Axes>"
            ],
            "image/png": "[encoded data removed]"
          },
          "metadata": {}
        }
      ]
    },
    {
      "cell_type": "code",
      "source": [],
      "metadata": {
        "id": "lshsvlbBnqX6"
      },
      "execution_count": null,
      "outputs": []
    }
  ]
}